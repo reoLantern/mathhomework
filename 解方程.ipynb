{
 "cells": [
  {
   "cell_type": "code",
   "execution_count": 5,
   "metadata": {},
   "outputs": [
    {
     "data": {
      "text/latex": [
       "$\\displaystyle \\left\\{\\left( \\frac{82}{29}, \\  - \\frac{134}{87}\\right)\\right\\}$"
      ],
      "text/plain": [
       "{(82/29, -134/87)}"
      ]
     },
     "execution_count": 5,
     "metadata": {},
     "output_type": "execute_result"
    }
   ],
   "source": [
    "from sympy import Matrix, linsolve, Rational\n",
    "\n",
    "# Defining the matrix A and vector b using Rational for exact fractions\n",
    "A = Matrix(\n",
    "    [\n",
    "        [2, Rational(3,4)],\n",
    "        [Rational(1,2),2]\n",
    "    ]\n",
    ")\n",
    "\n",
    "b = Matrix([Rational(9, 2), Rational(-5, 3)])\n",
    "\n",
    "# Solving the linear equation Ax = b\n",
    "solution = linsolve((A, b))\n",
    "solution"
   ]
  }
 ],
 "metadata": {
  "kernelspec": {
   "display_name": "base",
   "language": "python",
   "name": "python3"
  },
  "language_info": {
   "codemirror_mode": {
    "name": "ipython",
    "version": 3
   },
   "file_extension": ".py",
   "mimetype": "text/x-python",
   "name": "python",
   "nbconvert_exporter": "python",
   "pygments_lexer": "ipython3",
   "version": "3.11.5"
  }
 },
 "nbformat": 4,
 "nbformat_minor": 2
}
