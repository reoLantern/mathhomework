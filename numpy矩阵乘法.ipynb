{
 "cells": [
  {
   "cell_type": "code",
   "execution_count": 10,
   "metadata": {},
   "outputs": [
    {
     "name": "stdout",
     "output_type": "stream",
     "text": [
      "oo: 1.4142135623730951\n",
      "矩阵求逆：\n",
      "[[ 1.  0.  0.  0.]\n",
      " [ 0.  1.  0.  0.]\n",
      " [ 0.  0.  1.  0.]\n",
      " [-1. -1. -1.  1.]]\n",
      "PA:\n",
      "[[ 2.         -1.          3.        ]\n",
      " [ 5.65685425 -1.41421356 -4.24264069]\n",
      " [ 0.          1.41421356  7.07106781]]\n",
      "PAPT：\n",
      "[[ 2.         -5.65685425  2.82842712]\n",
      " [ 5.65685425  4.         -8.        ]\n",
      " [ 0.         -8.         12.        ]]\n",
      "矩阵向量乘结果：\n"
     ]
    },
    {
     "ename": "NameError",
     "evalue": "name 'v' is not defined",
     "output_type": "error",
     "traceback": [
      "\u001b[1;31m---------------------------------------------------------------------------\u001b[0m",
      "\u001b[1;31mNameError\u001b[0m                                 Traceback (most recent call last)",
      "\u001b[1;32mc:\\Users\\Mingyuan\\OneDrive - mails.tsinghua.edu.cn\\math\\矩阵乘法.ipynb 单元格 1\u001b[0m line \u001b[0;36m2\n\u001b[0;32m     <a href='vscode-notebook-cell:/c%3A/Users/Mingyuan/OneDrive%20-%20mails.tsinghua.edu.cn/math/%E7%9F%A9%E9%98%B5%E4%B9%98%E6%B3%95.ipynb#W0sZmlsZQ%3D%3D?line=19'>20</a>\u001b[0m \u001b[39mprint\u001b[39m(np\u001b[39m.\u001b[39mdot(np\u001b[39m.\u001b[39mdot(P, A), P\u001b[39m.\u001b[39mT))\n\u001b[0;32m     <a href='vscode-notebook-cell:/c%3A/Users/Mingyuan/OneDrive%20-%20mails.tsinghua.edu.cn/math/%E7%9F%A9%E9%98%B5%E4%B9%98%E6%B3%95.ipynb#W0sZmlsZQ%3D%3D?line=22'>23</a>\u001b[0m \u001b[39mprint\u001b[39m(\u001b[39m\"\u001b[39m\u001b[39m矩阵向量乘结果：\u001b[39m\u001b[39m\"\u001b[39m)\n\u001b[1;32m---> <a href='vscode-notebook-cell:/c%3A/Users/Mingyuan/OneDrive%20-%20mails.tsinghua.edu.cn/math/%E7%9F%A9%E9%98%B5%E4%B9%98%E6%B3%95.ipynb#W0sZmlsZQ%3D%3D?line=23'>24</a>\u001b[0m \u001b[39mprint\u001b[39m(np\u001b[39m.\u001b[39mdot(A, v))\n\u001b[0;32m     <a href='vscode-notebook-cell:/c%3A/Users/Mingyuan/OneDrive%20-%20mails.tsinghua.edu.cn/math/%E7%9F%A9%E9%98%B5%E4%B9%98%E6%B3%95.ipynb#W0sZmlsZQ%3D%3D?line=26'>27</a>\u001b[0m \u001b[39mprint\u001b[39m(\u001b[39m\"\u001b[39m\u001b[39m矩阵加法结果：\u001b[39m\u001b[39m\"\u001b[39m)\n\u001b[0;32m     <a href='vscode-notebook-cell:/c%3A/Users/Mingyuan/OneDrive%20-%20mails.tsinghua.edu.cn/math/%E7%9F%A9%E9%98%B5%E4%B9%98%E6%B3%95.ipynb#W0sZmlsZQ%3D%3D?line=27'>28</a>\u001b[0m \u001b[39mprint\u001b[39m(A \u001b[39m+\u001b[39m B)\n",
      "\u001b[1;31mNameError\u001b[0m: name 'v' is not defined"
     ]
    }
   ],
   "source": [
    "import numpy as np\n",
    "\n",
    "A = np.array([[2, -1, 3], [2, 0, 1], [-2, 1, 4]])\n",
    "\n",
    "B = np.array([[1, 0, 0, 0], [0, 1, 0, 0], [0, 0, 1, 0], [1, 1, 1, 1]])\n",
    "\n",
    "oo = pow(2, 0.5) / 2\n",
    "print(\"oo:\", oo)\n",
    "\n",
    "P = np.array([[1, 0, 0], [0, oo, -oo], [0, oo, oo]])\n",
    "\n",
    "print(\"矩阵求逆：\")\n",
    "print(np.linalg.inv(B))\n",
    "\n",
    "\n",
    "print(\"PA:\")\n",
    "print(np.dot(P, A))\n",
    "\n",
    "print(\"PAPT：\")\n",
    "print(np.dot(np.dot(P, A), P.T))\n",
    "\n",
    "\n",
    "print(\"矩阵向量乘结果：\")\n",
    "print(np.dot(A, v))\n",
    "\n",
    "\n",
    "print(\"矩阵加法结果：\")\n",
    "print(A + B)\n",
    "\n",
    "\n",
    "print(\"矩阵A的转置：\")\n",
    "print(A.T)\n",
    "\n",
    "\n",
    "b = np.array([14, 32, 50])\n",
    "solution = np.linalg.solve(A, b)\n",
    "print(\"线性方程组的解：\")\n",
    "print(solution)"
   ]
  },
  {
   "cell_type": "code",
   "execution_count": 4,
   "metadata": {},
   "outputs": [
    {
     "name": "stdout",
     "output_type": "stream",
     "text": [
      "A: [[ 1.00000000e-06  0.00000000e+00  0.00000000e+00]\n",
      " [ 0.00000000e+00  2.75000000e+00 -4.33012702e-01]\n",
      " [ 0.00000000e+00 -4.33012702e-01  2.25000000e+00]]\n",
      "ATA: [[ 1.00000000e-12  0.00000000e+00  0.00000000e+00]\n",
      " [ 0.00000000e+00  7.75000000e+00 -2.16506351e+00]\n",
      " [ 0.00000000e+00 -2.16506351e+00  5.25000000e+00]]\n",
      "ATb: [0. 0. 0.]\n",
      "[0. 0. 0.]\n"
     ]
    }
   ],
   "source": [
    "# 定义正交矩阵 U\n",
    "U = np.array([[1, 0, 0],\n",
    "              [0, 1/2, -np.sqrt(3)/2],\n",
    "              [0, np.sqrt(3)/2, 1/2]])\n",
    "\n",
    "# 定义矩阵 A\n",
    "Diag = np.diag([10**(-6), 2, 3])\n",
    "A = np.dot(U, np.dot(Diag, U.T))\n",
    "print(\"A:\", A)\n",
    "\n",
    "# 定义向量 b\n",
    "b = np.array([0, 0, 0])\n",
    "\n",
    "# 根据方程组，计算 A^T * A 和 A^T * b\n",
    "ATA = np.dot(A.T, A)\n",
    "print(\"ATA:\", ATA)\n",
    "ATb = np.dot(A.T, b)\n",
    "print(\"ATb:\", ATb)\n",
    "\n",
    "# 为简便起见，假设 μ = 1（你可以根据实际情况修改μ的值）\n",
    "mu = 1\n",
    "I = np.identity(3)\n",
    "\n",
    "# 计算左侧系数矩阵\n",
    "coeff_matrix = ATA + 2*mu*I\n",
    "\n",
    "# 使用numpy的线性代数函数求解线性方程组\n",
    "x = np.linalg.solve(coeff_matrix, ATb)\n",
    "\n",
    "print(x)\n"
   ]
  }
 ],
 "metadata": {
  "kernelspec": {
   "display_name": "base",
   "language": "python",
   "name": "python3"
  },
  "language_info": {
   "codemirror_mode": {
    "name": "ipython",
    "version": 3
   },
   "file_extension": ".py",
   "mimetype": "text/x-python",
   "name": "python",
   "nbconvert_exporter": "python",
   "pygments_lexer": "ipython3",
   "version": "3.11.5"
  },
  "orig_nbformat": 4
 },
 "nbformat": 4,
 "nbformat_minor": 2
}
